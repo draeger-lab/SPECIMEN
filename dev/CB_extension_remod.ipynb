{
 "cells": [
  {
   "cell_type": "code",
   "execution_count": 19,
   "metadata": {},
   "outputs": [],
   "source": [
    "import cobra\n",
    "import pandas as pd\n",
    "import sys\n",
    "\n",
    "from random import choice \n",
    "from string import ascii_uppercase, digits\n",
    "from typing import Literal\n",
    "\n",
    "from tqdm import tqdm\n",
    "from tqdm.auto import tqdm\n",
    "tqdm.pandas()\n",
    "\n",
    "import urllib.error\n",
    "from Bio.KEGG import REST\n",
    "from Bio.KEGG import Compound\n",
    "\n",
    "from refinegems.utility.io import load_a_table_from_database, load_model, kegg_reaction_parser"
   ]
  },
  {
   "cell_type": "code",
   "execution_count": 24,
   "metadata": {},
   "outputs": [],
   "source": [
    "mapped_genes_path = '/Users/carolinb/Documents/104 Masterthesis/klebsiella-pipeline/example/thesis/Kp_std/03_refinement/step1-extension/genes_mapped.csv'\n",
    "\n",
    "chem_prop_file = '/Users/carolinb/Documents/104 Masterthesis/klebsiella-pipeline/example/data/MetaNetX/chem_prop.tsv'\n",
    "chem_xref_file = '/Users/carolinb/Documents/104 Masterthesis/klebsiella-pipeline/example/data/MetaNetX/chem_xref.tsv'\n",
    "reac_prop_file = '/Users/carolinb/Documents/104 Masterthesis/klebsiella-pipeline/example/data/MetaNetX/reac_prop.tsv'\n",
    "reac_xref_file = '/Users/carolinb/Documents/104 Masterthesis/klebsiella-pipeline/example/data/MetaNetX/reac_xref.tsv'"
   ]
  },
  {
   "cell_type": "code",
   "execution_count": 61,
   "metadata": {},
   "outputs": [],
   "source": [
    "draft_model_path = '/Users/carolinb/Documents/104 Masterthesis/klebsiella-pipeline/example/thesis/Kp_std/02_generate_draft_model/Kp_std_draft.xml'\n",
    "\n"
   ]
  },
  {
   "cell_type": "code",
   "execution_count": 1,
   "metadata": {},
   "outputs": [
    {
     "data": {
      "text/plain": [
       "PosixPath('/Users/carolinb/Documents/104 Masterthesis/analysis')"
      ]
     },
     "execution_count": 1,
     "metadata": {},
     "output_type": "execute_result"
    }
   ],
   "source": [
    "from pathlib import Path\n",
    "dir = '/Users/carolinb/Documents/104 Masterthesis/'\n",
    "Path(dir).joinpath('analysis')\n",
    "#if not dir.endswith('/'):\n",
    "#    dir = dir + '/'"
   ]
  },
  {
   "cell_type": "markdown",
   "metadata": {},
   "source": [
    "### reworking functions for extension\n"
   ]
  },
  {
   "cell_type": "code",
   "execution_count": null,
   "metadata": {},
   "outputs": [],
   "source": []
  },
  {
   "cell_type": "markdown",
   "metadata": {},
   "source": [
    "### Test Area 51"
   ]
  },
  {
   "cell_type": "code",
   "execution_count": 2,
   "metadata": {},
   "outputs": [
    {
     "name": "stdout",
     "output_type": "stream",
     "text": [
      "\tDuplicate metabolite(s) nh3_c, nh4_c found.\n",
      "\tDuplicate metabolite(s) isetac_c, istnt_c found.\n",
      "\tDuplicate metabolite(s) sula_c, sulfac_c found.\n",
      "\tDuplicate metabolite(s) 2kmb_c, 4met2obut_c found.\n",
      "\tDuplicate metabolite(s) 1btol_c, btoh_c found.\n",
      "\tDuplicate metabolite(s) 34dhpacet_c, 34dhpha_c found.\n",
      "\tDuplicate metabolite(s) buts_c, butso3_c found.\n",
      "\tDuplicate metabolite(s) eths_c, ethso3_c found.\n",
      "\tDuplicate metabolite(s) isetac_e, istnt_e found.\n",
      "\tDuplicate metabolite(s) sula_e, sulfac_e found.\n",
      "\tDuplicate metabolite(s) buts_e, butso3_e found.\n",
      "\tDuplicate metabolite(s) eths_e, ethso3_e found.\n",
      "\tDuplicate reactions 4CMLCL_kt, CMLDC found.\n",
      "\tDuplicate reactions CYTDK1, CYTDK1_1 found.\n",
      "\tDuplicate reactions HEX7, HEX7_1 found.\n",
      "\tDuplicate reactions GLYCK, GLYCK_1 found.\n",
      "\tDuplicate reactions URIK1, URIK1_1 found.\n",
      "\tDuplicate reactions CYTDK2, CYTDK2_1 found.\n",
      "\tDuplicate reactions URIK2, URIK2_1 found.\n",
      "\tDuplicate reactions NMNHYD, NMNHYD_1 found.\n"
     ]
    },
    {
     "data": {
      "text/html": [
       "\n",
       "        <table>\n",
       "            <tr>\n",
       "                <td><strong>Name</strong></td>\n",
       "                <td>Kp_std</td>\n",
       "            </tr><tr>\n",
       "                <td><strong>Memory address</strong></td>\n",
       "                <td>2a77b5360</td>\n",
       "            </tr><tr>\n",
       "                <td><strong>Number of metabolites</strong></td>\n",
       "                <td>1885</td>\n",
       "            </tr><tr>\n",
       "                <td><strong>Number of reactions</strong></td>\n",
       "                <td>2940</td>\n",
       "            </tr><tr>\n",
       "                <td><strong>Number of genes</strong></td>\n",
       "                <td>2002</td>\n",
       "            </tr><tr>\n",
       "                <td><strong>Number of groups</strong></td>\n",
       "                <td>0</td>\n",
       "            </tr><tr>\n",
       "                <td><strong>Objective expression</strong></td>\n",
       "                <td>1.0*Growth - 1.0*Growth_reverse_699ae</td>\n",
       "            </tr><tr>\n",
       "                <td><strong>Compartments</strong></td>\n",
       "                <td>cytosol, periplasm, extracellular space</td>\n",
       "            </tr>\n",
       "          </table>"
      ],
      "text/plain": [
       "<Model Kp_std at 0x2a77b5360>"
      ]
     },
     "execution_count": 2,
     "metadata": {},
     "output_type": "execute_result"
    }
   ],
   "source": [
    "from specimen.core.refinement.cleanup import resolve_duplicates\n",
    "from refinegems.utility.io import load_model\n",
    "\n",
    "draft_model_path = '/Users/brune/Documents/11_Test_Data/test_SPECIMEN/thesis/Kp_std/02_generate_draft_model/Kp_std_draft.xml'\n",
    "test_model = load_model(draft_model_path,'cobra')\n",
    "\n",
    "resolve_duplicates(test_model, check_reac = True, check_meta = 'default', replace_dupl_meta=False, remove_unused_meta = False, remove_dupl_reac = False)\n",
    "\n"
   ]
  },
  {
   "cell_type": "code",
   "execution_count": null,
   "metadata": {},
   "outputs": [],
   "source": []
  }
 ],
 "metadata": {
  "kernelspec": {
   "display_name": "sprg",
   "language": "python",
   "name": "python3"
  },
  "language_info": {
   "codemirror_mode": {
    "name": "ipython",
    "version": 3
   },
   "file_extension": ".py",
   "mimetype": "text/x-python",
   "name": "python",
   "nbconvert_exporter": "python",
   "pygments_lexer": "ipython3",
   "version": "3.10.13"
  }
 },
 "nbformat": 4,
 "nbformat_minor": 2
}
