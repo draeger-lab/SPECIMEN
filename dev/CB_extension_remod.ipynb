{
 "cells": [
  {
   "cell_type": "code",
   "execution_count": null,
   "metadata": {},
   "outputs": [],
   "source": [
    "import cobra\n",
    "import pandas as pd\n",
    "import sys\n",
    "\n",
    "from random import choice \n",
    "from string import ascii_uppercase, digits\n",
    "from typing import Literal\n",
    "\n",
    "from tqdm import tqdm\n",
    "from tqdm.auto import tqdm\n",
    "tqdm.pandas()\n",
    "\n",
    "import urllib.error\n",
    "from Bio.KEGG import REST\n",
    "from Bio.KEGG import Compound\n",
    "\n",
    "from refinegems.utility.io import load_a_table_from_database, load_model, kegg_reaction_parser"
   ]
  },
  {
   "cell_type": "code",
   "execution_count": null,
   "metadata": {},
   "outputs": [],
   "source": [
    "mapped_genes_path = '/Users/carolinb/Documents/104 Masterthesis/klebsiella-pipeline/example/thesis/Kp_std/03_refinement/step1-extension/genes_mapped.csv'\n",
    "\n",
    "chem_prop_file = '/Users/carolinb/Documents/104 Masterthesis/klebsiella-pipeline/example/data/MetaNetX/chem_prop.tsv'\n",
    "chem_xref_file = '/Users/carolinb/Documents/104 Masterthesis/klebsiella-pipeline/example/data/MetaNetX/chem_xref.tsv'\n",
    "reac_prop_file = '/Users/carolinb/Documents/104 Masterthesis/klebsiella-pipeline/example/data/MetaNetX/reac_prop.tsv'\n",
    "reac_xref_file = '/Users/carolinb/Documents/104 Masterthesis/klebsiella-pipeline/example/data/MetaNetX/reac_xref.tsv'"
   ]
  },
  {
   "cell_type": "code",
   "execution_count": null,
   "metadata": {},
   "outputs": [],
   "source": [
    "draft_model_path = '/Users/carolinb/Documents/104 Masterthesis/klebsiella-pipeline/example/thesis/Kp_std/02_generate_draft_model/Kp_std_draft.xml'\n",
    "\n"
   ]
  },
  {
   "cell_type": "markdown",
   "metadata": {},
   "source": [
    "### Testing the modules"
   ]
  },
  {
   "cell_type": "code",
   "execution_count": null,
   "metadata": {},
   "outputs": [],
   "source": [
    "# validation\n",
    "#\n",
    "# seems to work\n",
    "\n",
    "from specimen.core import validation\n",
    "\n",
    "dir = '/Users/brune/Documents/11_Test_Data/test_SPECIMEN/testing'\n",
    "model_path = '/Users/brune/Documents/11_Test_Data/test_SPECIMEN/thesis/Kp_std/03_refinement/step4-smoothing/Kp_std_smooth.xml'\n",
    "tests = None\n",
    "run_all = True\n",
    "\n",
    "validation.run(dir, model_path, tests=None, run_all=True)"
   ]
  },
  {
   "cell_type": "code",
   "execution_count": null,
   "metadata": {},
   "outputs": [],
   "source": [
    "# analysis\n",
    "# \n",
    "# works, save for a couple of warning from cobra-internal stuff\n",
    "\n",
    "from specimen.core import analysis\n",
    "\n",
    "model_path = '/Users/brune/Documents/11_Test_Data/test_SPECIMEN/thesis/Kp_std/03_refinement/step4-smoothing/Kp_std_smooth.xml'\n",
    "dir = '/Users/brune/Documents/11_Test_Data/test_SPECIMEN/testing'\n",
    "media_path= '/Users/brune/Documents/11_Test_Data/test_SPECIMEN/testing/media_config.yml'\n",
    "namespace='BiGG'\n",
    "pc_model_path=None\n",
    "pc_based_on='id'\n",
    "test_aa_auxotrophies=True\n",
    "pathway=True\n",
    "\n",
    "analysis.run(model_path, dir, \n",
    "        media_path, namespace,\n",
    "        pc_model_path, pc_based_on, \n",
    "        test_aa_auxotrophies, pathway)"
   ]
  },
  {
   "cell_type": "markdown",
   "metadata": {},
   "source": [
    "### Test Area 51"
   ]
  },
  {
   "cell_type": "code",
   "execution_count": null,
   "metadata": {},
   "outputs": [],
   "source": [
    "from specimen.core.refinement.cleanup import resolve_duplicates\n",
    "from refinegems.utility.io import load_model\n",
    "\n",
    "draft_model_path = '/Users/brune/Documents/11_Test_Data/test_SPECIMEN/thesis/Kp_std/02_generate_draft_model/Kp_std_draft.xml'\n",
    "test_model = load_model(draft_model_path,'cobra')\n",
    "\n",
    "resolve_duplicates(test_model, check_reac = True, check_meta = 'default', replace_dupl_meta=False, remove_unused_meta = False, remove_dupl_reac = False)\n",
    "\n"
   ]
  },
  {
   "cell_type": "code",
   "execution_count": null,
   "metadata": {},
   "outputs": [],
   "source": []
  }
 ],
 "metadata": {
  "kernelspec": {
   "display_name": "sprg",
   "language": "python",
   "name": "python3"
  },
  "language_info": {
   "codemirror_mode": {
    "name": "ipython",
    "version": 3
   },
   "file_extension": ".py",
   "mimetype": "text/x-python",
   "name": "python",
   "nbconvert_exporter": "python",
   "pygments_lexer": "ipython3",
   "version": "3.10.13"
  }
 },
 "nbformat": 4,
 "nbformat_minor": 2
}
