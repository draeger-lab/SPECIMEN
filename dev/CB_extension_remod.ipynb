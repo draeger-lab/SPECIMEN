{
 "cells": [
  {
   "cell_type": "code",
   "execution_count": null,
   "metadata": {},
   "outputs": [],
   "source": [
    "import cobra\n",
    "import pandas as pd\n",
    "import sys\n",
    "\n",
    "from random import choice \n",
    "from string import ascii_uppercase, digits\n",
    "from typing import Literal\n",
    "\n",
    "from tqdm import tqdm\n",
    "from tqdm.auto import tqdm\n",
    "tqdm.pandas()\n",
    "\n",
    "import urllib.error\n",
    "from Bio.KEGG import REST\n",
    "from Bio.KEGG import Compound\n",
    "\n",
    "from refinegems.utility.io import load_a_table_from_database, load_model, kegg_reaction_parser"
   ]
  },
  {
   "cell_type": "code",
   "execution_count": null,
   "metadata": {},
   "outputs": [],
   "source": [
    "mapped_genes_path = '/Users/carolinb/Documents/104 Masterthesis/klebsiella-pipeline/example/thesis/Kp_std/03_refinement/step1-extension/genes_mapped.csv'\n",
    "\n",
    "chem_prop_file = '/Users/carolinb/Documents/104 Masterthesis/klebsiella-pipeline/example/data/MetaNetX/chem_prop.tsv'\n",
    "chem_xref_file = '/Users/carolinb/Documents/104 Masterthesis/klebsiella-pipeline/example/data/MetaNetX/chem_xref.tsv'\n",
    "reac_prop_file = '/Users/carolinb/Documents/104 Masterthesis/klebsiella-pipeline/example/data/MetaNetX/reac_prop.tsv'\n",
    "reac_xref_file = '/Users/carolinb/Documents/104 Masterthesis/klebsiella-pipeline/example/data/MetaNetX/reac_xref.tsv'"
   ]
  },
  {
   "cell_type": "code",
   "execution_count": null,
   "metadata": {},
   "outputs": [],
   "source": [
    "draft_model_path = '/Users/carolinb/Documents/104 Masterthesis/klebsiella-pipeline/example/thesis/Kp_std/02_generate_draft_model/Kp_std_draft.xml'\n",
    "\n"
   ]
  },
  {
   "cell_type": "markdown",
   "metadata": {},
   "source": [
    "### Testing the modules"
   ]
  },
  {
   "cell_type": "code",
   "execution_count": 2,
   "metadata": {},
   "outputs": [
    {
     "name": "stdout",
     "output_type": "stream",
     "text": [
      "\n",
      "refinement step 3: annotation\n",
      "################################################################################\n",
      "\n",
      "Given directory already has required structure.\n",
      "\n",
      "# ------------------\n",
      "# add SBO annotation\n",
      "# ------------------\n"
     ]
    },
    {
     "ename": "FileNotFoundError",
     "evalue": "[Errno 2] No such file or directory: 'create_dbs.sql'",
     "output_type": "error",
     "traceback": [
      "\u001b[0;31m---------------------------------------------------------------------------\u001b[0m",
      "\u001b[0;31mFileNotFoundError\u001b[0m                         Traceback (most recent call last)",
      "Cell \u001b[0;32mIn[2], line 11\u001b[0m\n\u001b[1;32m      8\u001b[0m kegg_viaRC \u001b[38;5;241m=\u001b[39m \u001b[38;5;28;01mFalse\u001b[39;00m\n\u001b[1;32m      9\u001b[0m memote \u001b[38;5;241m=\u001b[39m \u001b[38;5;28;01mTrue\u001b[39;00m\n\u001b[0;32m---> 11\u001b[0m \u001b[43mannotation\u001b[49m\u001b[38;5;241;43m.\u001b[39;49m\u001b[43mrun\u001b[49m\u001b[43m(\u001b[49m\u001b[43mmodel\u001b[49m\u001b[43m,\u001b[49m\u001b[43m \u001b[49m\u001b[38;5;28;43mdir\u001b[39;49m\u001b[43m,\u001b[49m\u001b[43m \u001b[49m\u001b[43mkegg_viaEC\u001b[49m\u001b[43m,\u001b[49m\u001b[43m \u001b[49m\u001b[43mkegg_viaRC\u001b[49m\u001b[43m,\u001b[49m\u001b[43m \u001b[49m\u001b[43mmemote\u001b[49m\u001b[43m)\u001b[49m\n",
      "File \u001b[0;32m~/Documents/10_Code/SPECIMEN/build/__editable__.specimen-0.0.0-py3-none-any/specimen/core/refinement/annotation.py:181\u001b[0m, in \u001b[0;36mrun\u001b[0;34m(model, dir, kegg_viaEC, kegg_viaRC, memote)\u001b[0m\n\u001b[1;32m    171\u001b[0m libsbml_model \u001b[38;5;241m=\u001b[39m libsbml_doc\u001b[38;5;241m.\u001b[39mgetModel()\n\u001b[1;32m    173\u001b[0m \u001b[38;5;66;03m# note:\u001b[39;00m\n\u001b[1;32m    174\u001b[0m \u001b[38;5;66;03m#    current implementation needs the script SBOannotator.py\u001b[39;00m\n\u001b[1;32m    175\u001b[0m \u001b[38;5;66;03m#    and the create_dbs.sql files from the SBOannotator github repo\u001b[39;00m\n\u001b[0;32m   (...)\u001b[0m\n\u001b[1;32m    178\u001b[0m \u001b[38;5;66;03m#    SBOannotator should be downloadable as a python tool\u001b[39;00m\n\u001b[1;32m    179\u001b[0m \u001b[38;5;66;03m#    if not included download from github\u001b[39;00m\n\u001b[0;32m--> 181\u001b[0m \u001b[43msbo_annotator\u001b[49m\u001b[43m(\u001b[49m\u001b[43mlibsbml_doc\u001b[49m\u001b[43m,\u001b[49m\u001b[43m \u001b[49m\u001b[43mlibsbml_model\u001b[49m\u001b[43m,\u001b[49m\u001b[43m \u001b[49m\u001b[38;5;124;43m'\u001b[39;49m\u001b[38;5;124;43mconstraint-based\u001b[39;49m\u001b[38;5;124;43m'\u001b[39;49m\u001b[43m,\u001b[49m\u001b[43m \u001b[49m\u001b[38;5;28;43;01mTrue\u001b[39;49;00m\u001b[43m,\u001b[49m\u001b[43m \u001b[49m\u001b[38;5;124;43m'\u001b[39;49m\u001b[38;5;124;43mcreate_dbs\u001b[39;49m\u001b[38;5;124;43m'\u001b[39;49m\u001b[43m,\u001b[49m\u001b[43m \u001b[49m\n\u001b[1;32m    182\u001b[0m \u001b[43m              \u001b[49m\u001b[43mPath\u001b[49m\u001b[43m(\u001b[49m\u001b[38;5;28;43mdir\u001b[39;49m\u001b[43m,\u001b[49m\u001b[38;5;124;43m'\u001b[39;49m\u001b[38;5;124;43mstep3-annotation\u001b[39;49m\u001b[38;5;124;43m'\u001b[39;49m\u001b[43m,\u001b[49m\u001b[43mlibsbml_model\u001b[49m\u001b[38;5;241;43m.\u001b[39;49m\u001b[43mgetId\u001b[49m\u001b[43m(\u001b[49m\u001b[43m)\u001b[49m\u001b[38;5;241;43m+\u001b[39;49m\u001b[38;5;124;43m'\u001b[39;49m\u001b[38;5;124;43m_SBOannotated.xml\u001b[39;49m\u001b[38;5;124;43m'\u001b[39;49m\u001b[43m)\u001b[49m\u001b[43m)\u001b[49m\n\u001b[1;32m    184\u001b[0m end \u001b[38;5;241m=\u001b[39m time\u001b[38;5;241m.\u001b[39mtime()\n\u001b[1;32m    185\u001b[0m \u001b[38;5;28mprint\u001b[39m(\u001b[38;5;124mF\u001b[39m\u001b[38;5;124m'\u001b[39m\u001b[38;5;130;01m\\t\u001b[39;00m\u001b[38;5;124mtime: \u001b[39m\u001b[38;5;132;01m{\u001b[39;00mend\u001b[38;5;250m \u001b[39m\u001b[38;5;241m-\u001b[39m\u001b[38;5;250m \u001b[39mstart\u001b[38;5;132;01m}\u001b[39;00m\u001b[38;5;124ms\u001b[39m\u001b[38;5;124m'\u001b[39m)\n",
      "File \u001b[0;32m~/miniconda3/envs/sprg/lib/python3.10/site-packages/SBOannotator.py:580\u001b[0m, in \u001b[0;36msbo_annotator\u001b[0;34m(doc, model_libsbml, modelType, modelAnnotated, database_name, new_filename)\u001b[0m\n\u001b[1;32m    577\u001b[0m con \u001b[38;5;241m=\u001b[39m sqlite3\u001b[38;5;241m.\u001b[39mconnect(database_name)\n\u001b[1;32m    578\u001b[0m cur \u001b[38;5;241m=\u001b[39m con\u001b[38;5;241m.\u001b[39mcursor()\n\u001b[0;32m--> 580\u001b[0m \u001b[38;5;28;01mwith\u001b[39;00m \u001b[38;5;28;43mopen\u001b[39;49m\u001b[43m(\u001b[49m\u001b[43mdatabase_name\u001b[49m\u001b[43m \u001b[49m\u001b[38;5;241;43m+\u001b[39;49m\u001b[43m \u001b[49m\u001b[38;5;124;43m'\u001b[39;49m\u001b[38;5;124;43m.sql\u001b[39;49m\u001b[38;5;124;43m'\u001b[39;49m\u001b[43m)\u001b[49m \u001b[38;5;28;01mas\u001b[39;00m schema:\n\u001b[1;32m    581\u001b[0m     cur\u001b[38;5;241m.\u001b[39mexecutescript(schema\u001b[38;5;241m.\u001b[39mread())\n\u001b[1;32m    583\u001b[0m \u001b[38;5;66;03m# model is already annotated?\u001b[39;00m\n",
      "\u001b[0;31mFileNotFoundError\u001b[0m: [Errno 2] No such file or directory: 'create_dbs.sql'"
     ]
    }
   ],
   "source": [
    "# refinement - annotation\n",
    "#\n",
    "# - problems with SBIannotator\n",
    "\n",
    "from specimen.core.refinement import annotation\n",
    "\n",
    "model = '/Users/brune/Documents/11_Test_Data/test_SPECIMEN/thesis/Kp_std/03_refinement/step2-clean-up/Kp_std_clean.xml'\n",
    "dir = '/Users/brune/Documents/11_Test_Data/test_SPECIMEN/testing'\n",
    "kegg_viaEC = False\n",
    "kegg_viaRC = False\n",
    "memote = True\n",
    "\n",
    "annotation.run(model, dir, kegg_viaEC, kegg_viaRC, memote)"
   ]
  },
  {
   "cell_type": "code",
   "execution_count": null,
   "metadata": {},
   "outputs": [],
   "source": [
    "# validation\n",
    "#\n",
    "# seems to work\n",
    "\n",
    "from specimen.core import validation\n",
    "\n",
    "dir = '/Users/brune/Documents/11_Test_Data/test_SPECIMEN/testing'\n",
    "model_path = '/Users/brune/Documents/11_Test_Data/test_SPECIMEN/thesis/Kp_std/03_refinement/step4-smoothing/Kp_std_smooth.xml'\n",
    "tests = None\n",
    "run_all = True\n",
    "\n",
    "validation.run(dir, model_path, tests=None, run_all=True)"
   ]
  },
  {
   "cell_type": "code",
   "execution_count": null,
   "metadata": {},
   "outputs": [],
   "source": [
    "# analysis\n",
    "# \n",
    "# works, save for a couple of warning from cobra-internal stuff\n",
    "\n",
    "from specimen.core import analysis\n",
    "\n",
    "model_path = '/Users/brune/Documents/11_Test_Data/test_SPECIMEN/thesis/Kp_std/03_refinement/step4-smoothing/Kp_std_smooth.xml'\n",
    "dir = '/Users/brune/Documents/11_Test_Data/test_SPECIMEN/testing'\n",
    "media_path= '/Users/brune/Documents/11_Test_Data/test_SPECIMEN/testing/media_config.yml'\n",
    "namespace='BiGG'\n",
    "pc_model_path=None\n",
    "pc_based_on='id'\n",
    "test_aa_auxotrophies=True\n",
    "pathway=True\n",
    "\n",
    "analysis.run(model_path, dir, \n",
    "        media_path, namespace,\n",
    "        pc_model_path, pc_based_on, \n",
    "        test_aa_auxotrophies, pathway)"
   ]
  },
  {
   "cell_type": "markdown",
   "metadata": {},
   "source": [
    "### Test Area 51"
   ]
  },
  {
   "cell_type": "code",
   "execution_count": null,
   "metadata": {},
   "outputs": [],
   "source": [
    "from specimen.core.refinement.cleanup import resolve_duplicates\n",
    "from refinegems.utility.io import load_model\n",
    "\n",
    "draft_model_path = '/Users/brune/Documents/11_Test_Data/test_SPECIMEN/thesis/Kp_std/02_generate_draft_model/Kp_std_draft.xml'\n",
    "test_model = load_model(draft_model_path,'cobra')\n",
    "\n",
    "resolve_duplicates(test_model, check_reac = True, check_meta = 'default', replace_dupl_meta=False, remove_unused_meta = False, remove_dupl_reac = False)\n",
    "\n"
   ]
  },
  {
   "cell_type": "code",
   "execution_count": null,
   "metadata": {},
   "outputs": [],
   "source": []
  }
 ],
 "metadata": {
  "kernelspec": {
   "display_name": "sprg",
   "language": "python",
   "name": "python3"
  },
  "language_info": {
   "codemirror_mode": {
    "name": "ipython",
    "version": 3
   },
   "file_extension": ".py",
   "mimetype": "text/x-python",
   "name": "python",
   "nbconvert_exporter": "python",
   "pygments_lexer": "ipython3",
   "version": "3.10.13"
  }
 },
 "nbformat": 4,
 "nbformat_minor": 2
}
