{
 "cells": [
  {
   "cell_type": "code",
   "execution_count": 3,
   "id": "72e1a79f",
   "metadata": {},
   "outputs": [],
   "source": [
    "import specimen\n",
    "from specimen.classes import medium "
   ]
  },
  {
   "cell_type": "markdown",
   "id": "de0e5dbf",
   "metadata": {},
   "source": [
    "----\n",
    "# How To: Handle Medium\n",
    "\n",
    "In this section explains the basic functions for loading, handling and exporting media using the SPECIMEN class Medium. This Jupyter notebook serves as in introduction on how to use this to create and handle your own media when using the SPECIMEN package. For more options and further functionalities for the classes discussed below, please refer to the documentation."
   ]
  },
  {
   "cell_type": "markdown",
   "id": "6d6ad3f6",
   "metadata": {},
   "source": [
    "### Creation\n",
    "\n",
    "A medium (or more precisely the object medium) has three attributes:\n",
    "- **Name**: Name or better abbreviation of the medium described by a string    \n",
    "    The name should be short, e.g. M9, and should not contain whitespaces. This will later be used as the identifier in the database.\n",
    "- **Description**: of the medium, also a string.\n",
    "- **Compounds**: A dictionary of identifiers (usually the universal BiGG) and Compound objects.    \n",
    "    For initialisation, a list of Compounds is needed. The identifier are set by the class based on the BiGG ID or formula (see next block for more)\n",
    "    \n",
    "Enter a string for the name and description of your medium below:"
   ]
  },
  {
   "cell_type": "code",
   "execution_count": 2,
   "id": "32b26838",
   "metadata": {},
   "outputs": [],
   "source": [
    "name = 'test'\n",
    "description = 'test medium'\n",
    "compounds = []"
   ]
  },
  {
   "cell_type": "markdown",
   "id": "3174f2f5",
   "metadata": {},
   "source": [
    "Each Compound has the following attributes:\n",
    "\n",
    "- **Name**: The name of the compound, e.g. Ammonia\n",
    "- **BiGG ID**: Universal BiGG ID of the compound, e.g. nh4.     \n",
    "    When using the Compound for a medium, this should be given.\n",
    "- **formula:** Chemical formula without charge, e.g. NH4 for ammonia.    \n",
    "    When using the Compound for a medium this should to be given.\n",
    "- **exchange_flux**: Possible flux of the compound in the media.    \n",
    "    Optional, if needed, will be set to default 10.0\n",
    "    \n",
    "> note: either BiGG ID or formula **MUST** be given to enter the Compound successfully into the Medium\n",
    "\n",
    "Run the code below with the values for your each of your compounds:"
   ]
  },
  {
   "cell_type": "code",
   "execution_count": 3,
   "id": "9dd693a5",
   "metadata": {},
   "outputs": [],
   "source": [
    "c = medium.Compound()\n",
    "c.name = 'Ornithine'\n",
    "c.bigg = 'orn'\n",
    "c.formula = 'C5H13N2O2'\n",
    "c.exchange_flux = None\n",
    "compounds.append(c)"
   ]
  },
  {
   "cell_type": "markdown",
   "id": "4fc48205",
   "metadata": {},
   "source": [
    "Finally, run the code below to construct the Medium object:"
   ]
  },
  {
   "cell_type": "code",
   "execution_count": 6,
   "id": "d55a3e87",
   "metadata": {},
   "outputs": [],
   "source": [
    "test_medium = medium.Medium(name,description,compounds)"
   ]
  },
  {
   "cell_type": "markdown",
   "id": "02de113d",
   "metadata": {},
   "source": [
    "For a better view of your medium, you can convert it into a table:\n",
    "> note: the the function is used to display whole databases and takes a dictionary of the name and the Medium as input"
   ]
  },
  {
   "cell_type": "code",
   "execution_count": 10,
   "id": "3be83b5e",
   "metadata": {},
   "outputs": [
    {
     "data": {
      "text/html": [
       "<div>\n",
       "<style scoped>\n",
       "    .dataframe tbody tr th:only-of-type {\n",
       "        vertical-align: middle;\n",
       "    }\n",
       "\n",
       "    .dataframe tbody tr th {\n",
       "        vertical-align: top;\n",
       "    }\n",
       "\n",
       "    .dataframe thead th {\n",
       "        text-align: right;\n",
       "    }\n",
       "</style>\n",
       "<table border=\"1\" class=\"dataframe\">\n",
       "  <thead>\n",
       "    <tr style=\"text-align: right;\">\n",
       "      <th></th>\n",
       "      <th>medium</th>\n",
       "      <th>description</th>\n",
       "      <th>compound</th>\n",
       "      <th>bigg_id</th>\n",
       "      <th>formula</th>\n",
       "      <th>exchange_flux</th>\n",
       "    </tr>\n",
       "  </thead>\n",
       "  <tbody>\n",
       "    <tr>\n",
       "      <th>0</th>\n",
       "      <td>test</td>\n",
       "      <td>test medium</td>\n",
       "      <td>Ornithine</td>\n",
       "      <td>orn</td>\n",
       "      <td>C5H13N2O2</td>\n",
       "      <td>None</td>\n",
       "    </tr>\n",
       "  </tbody>\n",
       "</table>\n",
       "</div>"
      ],
      "text/plain": [
       "  medium  description   compound bigg_id    formula exchange_flux\n",
       "0   test  test medium  Ornithine     orn  C5H13N2O2          None"
      ]
     },
     "execution_count": 10,
     "metadata": {},
     "output_type": "execute_result"
    }
   ],
   "source": [
    "medium.db_to_table({test_medium.name:test_medium})"
   ]
  },
  {
   "cell_type": "markdown",
   "id": "f90d3540",
   "metadata": {},
   "source": [
    "### Export\n",
    "\n",
    "**to a file**    \n",
    "You can save your constructed medium by either saving adding it to an existing database ..."
   ]
  },
  {
   "cell_type": "code",
   "execution_count": 11,
   "id": "7db3d5db",
   "metadata": {},
   "outputs": [],
   "source": [
    "db_path = '/USER/PATH/media.csv'\n",
    "medium.add_medium_to_db(test_medium, db_path)"
   ]
  },
  {
   "cell_type": "markdown",
   "id": "67cff5c2",
   "metadata": {},
   "source": [
    "... or saving it in a seperate file.\n",
    "> note: similar to showing the medium as a table, this function takes a dictionary of the name and the Medium as input"
   ]
  },
  {
   "cell_type": "code",
   "execution_count": 13,
   "id": "f4bf019d",
   "metadata": {},
   "outputs": [],
   "source": [
    "out_path = 'your_path.csv'\n",
    "medium.save_db({test_medium.name:test_medium}, out_path)"
   ]
  },
  {
   "cell_type": "markdown",
   "id": "443a06af",
   "metadata": {},
   "source": [
    "**to cobra.Model.medium**  \n",
    "Additionaly, the medium can be exported into a format that can be used for added the medium to a cobra.Model."
   ]
  },
  {
   "cell_type": "code",
   "execution_count": null,
   "id": "f7851f01",
   "metadata": {},
   "outputs": [],
   "source": [
    "test_medium.export_to_cobra()"
   ]
  },
  {
   "cell_type": "markdown",
   "id": "f6c49e6b",
   "metadata": {},
   "source": [
    "### Import\n",
    "\n",
    "In addition to creating the Medium by hand, you can also import it from different sources.\n",
    "\n",
    "#### Option 1: From a database\n",
    "\n",
    "Import multiple media from a database file that looks the following (dots represent skipped lines):\n",
    "\n",
    "```\n",
    "medium;description;compound;bigg_id;formula;exchange_flux\n",
    "M9;M9_medium (minimal medium) based on protocol from Heilbronner lab;Ca2+;ca2;Ca\n",
    ".\n",
    ".\n",
    ".\n",
    "LB;Lysogeny broth (from CarveMe);Adenosine;adn;C10H13N5O4;\n",
    ".\n",
    ".\n",
    ".\n",
    "```\n",
    "\n",
    "The media are saved as a dictionary with their names as the keys and the loaded Medium objects as the values. Note that the file does not have to contain multiple media.\n",
    "\n",
    "The in-build database can accessed by passing no file path to `load_media_db()`."
   ]
  },
  {
   "cell_type": "code",
   "execution_count": 4,
   "id": "e554d2e7",
   "metadata": {},
   "outputs": [
    {
     "data": {
      "text/plain": [
       "{'LB': <specimen.classes.medium.Medium at 0x7fa7e9901db0>,\n",
       " 'LB_o2s': <specimen.classes.medium.Medium at 0x7fa7e1657040>,\n",
       " 'M9': <specimen.classes.medium.Medium at 0x7fa7e1655420>,\n",
       " 'M9_o2s': <specimen.classes.medium.Medium at 0x7fa7e1656140>,\n",
       " 'SNM3': <specimen.classes.medium.Medium at 0x7fa7e9903b50>,\n",
       " 'SNM3_o2s': <specimen.classes.medium.Medium at 0x7fa7e1645720>,\n",
       " 'VMH-EUavg': <specimen.classes.medium.Medium at 0x7fa7c01a8610>,\n",
       " 'VMH-hiFloC': <specimen.classes.medium.Medium at 0x7fa7e1657a90>,\n",
       " 'VMH-unhealthy': <specimen.classes.medium.Medium at 0x7fa7e1655660>,\n",
       " 'VMH-vegan': <specimen.classes.medium.Medium at 0x7fa7e16546a0>}"
      ]
     },
     "execution_count": 4,
     "metadata": {},
     "output_type": "execute_result"
    }
   ],
   "source": [
    "# db_path = '/PATH/TO/USER/DB.csv'\n",
    "# media_db = medium.load_media_db(db_path)\n",
    "media_db = medium.load_media_db()\n",
    "media_db"
   ]
  },
  {
   "cell_type": "markdown",
   "id": "5cbe5eff",
   "metadata": {},
   "source": [
    "#### Option 2: From a cobra model\n",
    "If a model has been loaded with *COBRApy*, its medium can be extracted and converted into a Medium object. "
   ]
  },
  {
   "cell_type": "code",
   "execution_count": null,
   "id": "f896b4c0",
   "metadata": {},
   "outputs": [],
   "source": [
    "model = specimen.util.io.read_model_cobra('/PATH/TO/MODEL')\n",
    "imported_medium = import_medium_from_cobra(model)"
   ]
  },
  {
   "cell_type": "markdown",
   "id": "ffd6793b",
   "metadata": {},
   "source": [
    "### Manipulating\n",
    "\n",
    "A newly constructed or imported medium (referred to as m in the code examples) can be further manipulated / changes according to the users needs using the following functions:\n",
    "\n",
    "`m.add_compound(Compound)`    \n",
    "Add a pre-build Compound to the model.\n",
    "\n",
    "`m.remove_compound(c)`    \n",
    "By either using a Compound or a BiGG ID string as input, remove the corresponding compound from the Medium\n",
    "\n",
    "`m.set_source_of(element, Compound)`    \n",
    "Searches the medium m for compounds that contain the given element and deletes them as long as they do not serve as\n",
    "an exclusive source for another element. Afterwards add the new compound to the medium as the new source (compound should contain the element).\n",
    "\n",
    "`m.make_aerobic()` or `make_anaerobic()`     \n",
    "Make the medium aerobic or anaerobic by deleting or adding compound(s) with the formula *O2* or the name *o2*.\n",
    "\n",
    "`m.combine(Medium)` or `+ Medium`     \n",
    "Combine two mediums into a new one."
   ]
  },
  {
   "cell_type": "code",
   "execution_count": 16,
   "id": "60b31342",
   "metadata": {},
   "outputs": [],
   "source": [
    "# load medium for testing\n",
    "media_db = medium.load_media_db()\n",
    "test_medium = media_db['M9']"
   ]
  },
  {
   "cell_type": "code",
   "execution_count": 17,
   "id": "c07f41aa",
   "metadata": {},
   "outputs": [],
   "source": [
    "# generate a compound for testing\n",
    "c = medium.Compound()\n",
    "c.name = 'Ornithine'\n",
    "c.bigg = 'orn'\n",
    "c.formula = 'C5H13N2O2'"
   ]
  },
  {
   "cell_type": "code",
   "execution_count": 18,
   "id": "c260d0e5",
   "metadata": {},
   "outputs": [
    {
     "data": {
      "text/plain": [
       "True"
      ]
     },
     "execution_count": 18,
     "metadata": {},
     "output_type": "execute_result"
    }
   ],
   "source": [
    "# add a compound\n",
    "test_medium.add_compound(c)\n",
    "test_medium.has_compound('orn')\n",
    "# test_medium.has_compound(c)"
   ]
  },
  {
   "cell_type": "code",
   "execution_count": 19,
   "id": "31db4a9b",
   "metadata": {},
   "outputs": [
    {
     "data": {
      "text/plain": [
       "False"
      ]
     },
     "execution_count": 19,
     "metadata": {},
     "output_type": "execute_result"
    }
   ],
   "source": [
    "# remove a compound\n",
    "test_medium.remove_compound('orn')\n",
    "# test_medium.remove_compound(c)\n",
    "test_medium.has_compound('orn')"
   ]
  },
  {
   "cell_type": "code",
   "execution_count": 20,
   "id": "1e0b721a",
   "metadata": {
    "scrolled": true
   },
   "outputs": [
    {
     "name": "stdout",
     "output_type": "stream",
     "text": [
      "before: ['glc__D', 'cit']\n",
      "after: ['orn']\n"
     ]
    }
   ],
   "source": [
    "# set source \n",
    "print('before: ' + str(test_medium.get_source_of('C')))\n",
    "test_medium.set_source_of('C', c)\n",
    "print('after: ' + str(test_medium.get_source_of('C')))"
   ]
  },
  {
   "cell_type": "code",
   "execution_count": 21,
   "id": "ed9ae729",
   "metadata": {},
   "outputs": [
    {
     "data": {
      "text/plain": [
       "False"
      ]
     },
     "execution_count": 21,
     "metadata": {},
     "output_type": "execute_result"
    }
   ],
   "source": [
    "# make anaerobic\n",
    "test_medium.make_anaerobic()\n",
    "test_medium.is_aerobic()"
   ]
  },
  {
   "cell_type": "code",
   "execution_count": 22,
   "id": "534eee86",
   "metadata": {},
   "outputs": [
    {
     "data": {
      "text/plain": [
       "True"
      ]
     },
     "execution_count": 22,
     "metadata": {},
     "output_type": "execute_result"
    }
   ],
   "source": [
    "# make aerobic\n",
    "test_medium.make_aerobic()\n",
    "test_medium.is_aerobic()"
   ]
  },
  {
   "cell_type": "code",
   "execution_count": 23,
   "id": "30367643",
   "metadata": {},
   "outputs": [
    {
     "data": {
      "text/plain": [
       "{'ca2': <missing_name.classes.medium.Compound at 0x7f98ab42af50>,\n",
       " 'cl': <missing_name.classes.medium.Compound at 0x7f98ab42b010>,\n",
       " 'cobalt2': <missing_name.classes.medium.Compound at 0x7f98ab42b040>,\n",
       " 'cu2': <missing_name.classes.medium.Compound at 0x7f98ab42b0a0>,\n",
       " 'fe2': <missing_name.classes.medium.Compound at 0x7f98ab42b100>,\n",
       " 'fe3': <missing_name.classes.medium.Compound at 0x7f98ab428ca0>,\n",
       " 'h2o': <missing_name.classes.medium.Compound at 0x7f98ab42ac50>,\n",
       " 'h': <missing_name.classes.medium.Compound at 0x7f98ab42ac80>,\n",
       " 'k': <missing_name.classes.medium.Compound at 0x7f98ab42ab30>,\n",
       " 'mg2': <missing_name.classes.medium.Compound at 0x7f98ab429f00>,\n",
       " 'mn2': <missing_name.classes.medium.Compound at 0x7f98ab42a7d0>,\n",
       " 'mobd': <missing_name.classes.medium.Compound at 0x7f98ab42ad40>,\n",
       " 'na1': <missing_name.classes.medium.Compound at 0x7f98ab42b220>,\n",
       " 'nh4': <missing_name.classes.medium.Compound at 0x7f98ab42b280>,\n",
       " 'ni2': <missing_name.classes.medium.Compound at 0x7f98ab42b2e0>,\n",
       " 'pi': <missing_name.classes.medium.Compound at 0x7f98ab42b340>,\n",
       " 'so4': <missing_name.classes.medium.Compound at 0x7f98ab42b3a0>,\n",
       " 'zn2': <missing_name.classes.medium.Compound at 0x7f98ab42b430>,\n",
       " 'H3BO3': <missing_name.classes.medium.Compound at 0x7f98ab42bd90>,\n",
       " 'orn': <missing_name.classes.medium.Compound at 0x7f98ab42bd30>,\n",
       " 'o2': <missing_name.classes.medium.Compound at 0x7f98ab42bbe0>,\n",
       " 'ala__L': <missing_name.classes.medium.Compound at 0x7f98ab429990>,\n",
       " 'arg__L': <missing_name.classes.medium.Compound at 0x7f98ab42bd00>,\n",
       " 'asp__L': <missing_name.classes.medium.Compound at 0x7f98ab42bca0>,\n",
       " 'glu__L': <missing_name.classes.medium.Compound at 0x7f98ab504040>,\n",
       " 'gly': <missing_name.classes.medium.Compound at 0x7f98ab504100>,\n",
       " 'his__L': <missing_name.classes.medium.Compound at 0x7f98ab5040a0>,\n",
       " 'ile__L': <missing_name.classes.medium.Compound at 0x7f98ab5041c0>,\n",
       " 'leu__L': <missing_name.classes.medium.Compound at 0x7f98ab504160>,\n",
       " 'lys__L': <missing_name.classes.medium.Compound at 0x7f98ab504280>,\n",
       " 'met__L': <missing_name.classes.medium.Compound at 0x7f98ab504220>,\n",
       " 'phe__L': <missing_name.classes.medium.Compound at 0x7f98ab504340>,\n",
       " 'pro__L': <missing_name.classes.medium.Compound at 0x7f98ab5042e0>,\n",
       " 'ser__L': <missing_name.classes.medium.Compound at 0x7f98ab504400>,\n",
       " 'thr__L': <missing_name.classes.medium.Compound at 0x7f98ab5043a0>,\n",
       " 'trp__L': <missing_name.classes.medium.Compound at 0x7f98ab5044c0>,\n",
       " 'tyr__L': <missing_name.classes.medium.Compound at 0x7f98ab504460>,\n",
       " 'val__L': <missing_name.classes.medium.Compound at 0x7f98ab504580>,\n",
       " 'cystine__L': <missing_name.classes.medium.Compound at 0x7f98ab504520>}"
      ]
     },
     "execution_count": 23,
     "metadata": {},
     "output_type": "execute_result"
    }
   ],
   "source": [
    "# combine two media into a new medium\n",
    "# --> there are two option on how to do it but both lead to the same result\n",
    "# in this example, the in-build medium for casamino acids is added to the medium\n",
    "\n",
    "# option 1:\n",
    "new_medium = test_medium + medium.CASAMINO_ACIDS\n",
    "\n",
    "# option 2:\n",
    "# new_medium = test_medium.combine(medium.CASAMINO_ACIDS)\n",
    "\n",
    "new_medium.compounds"
   ]
  },
  {
   "cell_type": "code",
   "execution_count": null,
   "id": "dd29b1ab",
   "metadata": {},
   "outputs": [],
   "source": []
  }
 ],
 "metadata": {
  "kernelspec": {
   "display_name": "Python 3 (ipykernel)",
   "language": "python",
   "name": "python3"
  },
  "language_info": {
   "codemirror_mode": {
    "name": "ipython",
    "version": 3
   },
   "file_extension": ".py",
   "mimetype": "text/x-python",
   "name": "python",
   "nbconvert_exporter": "python",
   "pygments_lexer": "ipython3",
   "version": "3.10.8"
  }
 },
 "nbformat": 4,
 "nbformat_minor": 5
}
