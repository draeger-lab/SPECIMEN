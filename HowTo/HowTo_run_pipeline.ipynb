{
 "cells": [
  {
   "cell_type": "code",
   "execution_count": 1,
   "id": "72657be9",
   "metadata": {},
   "outputs": [],
   "source": [
    "import specimen"
   ]
  },
  {
   "cell_type": "markdown",
   "id": "906e0aa4",
   "metadata": {},
   "source": [
    "# How To: Run the pipeline\n",
    "\n",
    "This notebook gives a brief overview on how the core pipline of *SPECIMEN* can be run on a set of data. If you are interest on how to collect the data, please refer to the `HowTo_collect_data` notebook.\n",
    "\n",
    "The pipeline can be accessed either from inside a python code or via the commandline tool. Furthermore, it can either be run on a single data set or a directory containing multiple setups. Running it only a single tome requires the configuration file as input, while running it multiple times requires a directory with subdirectories containing the input data and a deafult condif file (basically config for one of the data and the parameters will be used for all data).\n",
    "\n",
    "----\n",
    "## Python\n",
    "\n",
    "To access the pipeline from inside a python script, import *SPECIMEN* and use one of the following commands:"
   ]
  },
  {
   "cell_type": "code",
   "execution_count": null,
   "id": "669e16b3",
   "metadata": {},
   "outputs": [],
   "source": [
    "# run pipeline on a single data set\n",
    "specimen.workflow.run_complete(config_file='/User/path/to/config.yaml')\n",
    "\n",
    "# run the wrapper \n",
    "specimen.workflow.wrapper_pipeline(config_file='/User/path/to/config.yaml',\n",
    "                                   parent_dir=\"./\")"
   ]
  },
  {
   "cell_type": "markdown",
   "id": "139397a2",
   "metadata": {},
   "source": [
    "----\n",
    "## Command line tool\n",
    "To access the pipeline from the command line, use the following commands:\n",
    "\n",
    "- single: `specimen run pipeline \"config.yaml\"`\n",
    "- wrapper: `specimen run wrapper \"config.yaml\"` (flag `-d` can be used to set parent directory)"
   ]
  },
  {
   "cell_type": "markdown",
   "id": "bd20c0f9",
   "metadata": {},
   "source": [
    "----\n",
    "## Note\n",
    "\n",
    "In addition to running the whole pipeline, each step of the pipeline can be run separately. They can be found under `specimen run --help` in the command line toll and for each module under `specimen.core`, a `run` function has been implemented for running only THAT specific portion of the pipeline. Naturally, if running from inside a python script all functions can be called separatly."
   ]
  },
  {
   "cell_type": "code",
   "execution_count": null,
   "id": "aeb10274",
   "metadata": {},
   "outputs": [],
   "source": []
  }
 ],
 "metadata": {
  "kernelspec": {
   "display_name": "Python 3 (ipykernel)",
   "language": "python",
   "name": "python3"
  },
  "language_info": {
   "codemirror_mode": {
    "name": "ipython",
    "version": 3
   },
   "file_extension": ".py",
   "mimetype": "text/x-python",
   "name": "python",
   "nbconvert_exporter": "python",
   "pygments_lexer": "ipython3",
   "version": "3.10.11"
  }
 },
 "nbformat": 4,
 "nbformat_minor": 5
}
